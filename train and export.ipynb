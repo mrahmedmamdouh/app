{
  "nbformat": 4,
  "nbformat_minor": 0,
  "metadata": {
    "colab": {
      "name": "Untitled1.ipynb",
      "private_outputs": true,
      "provenance": [],
      "collapsed_sections": [],
      "authorship_tag": "ABX9TyMMrofFdUGmH8+J9hsD3HCo",
      "include_colab_link": true
    },
    "kernelspec": {
      "name": "python3",
      "display_name": "Python 3"
    },
    "accelerator": "GPU"
  },
  "cells": [
    {
      "cell_type": "markdown",
      "metadata": {
        "id": "view-in-github",
        "colab_type": "text"
      },
      "source": [
        "<a href=\"https://colab.research.google.com/github/mrahmedmamdouh/app/blob/startups/train%20and%20export.ipynb\" target=\"_parent\"><img src=\"https://colab.research.google.com/assets/colab-badge.svg\" alt=\"Open In Colab\"/></a>"
      ]
    },
    {
      "cell_type": "code",
      "metadata": {
        "id": "GVbBtzieRmFe"
      },
      "source": [
        "!pip install --upgrade pip\r\n",
        "!pip install --upgrade protobuf\r\n"
      ],
      "execution_count": null,
      "outputs": []
    },
    {
      "cell_type": "code",
      "metadata": {
        "id": "VPUMWZ-bR_jj"
      },
      "source": [
        "%tensorflow_version 1.15\r\n",
        "import tensorflow as tf\r\n",
        "print(tf.__version__)\r\n",
        "\r\n",
        "!pip install numpy\r\n"
      ],
      "execution_count": null,
      "outputs": []
    },
    {
      "cell_type": "code",
      "metadata": {
        "id": "CX4fwUlHSGSy"
      },
      "source": [
        "device_name = tf.test.gpu_device_name()\r\n",
        "if device_name != '/device:GPU:0':\r\n",
        "   raise SystemError('GPU device not found')\r\n",
        "print('Found GPU at: {}'.format(device_name))\r\n"
      ],
      "execution_count": null,
      "outputs": []
    },
    {
      "cell_type": "code",
      "metadata": {
        "id": "h6Lz0Yc_SNlT"
      },
      "source": [
        "# memory footprint support libraries/code\r\n",
        "!ln -sf /opt/bin/nvidia-smi /usr/bin/nvidia-smi\r\n",
        "!pip install gputil\r\n",
        "!pip install psutil\r\n",
        "!pip install humanize\r\n",
        "import psutil\r\n",
        "import humanize\r\n",
        "import os\r\n",
        "import GPUtil as GPU\r\n",
        "GPUs = GPU.getGPUs()\r\n",
        "# XXX: only one GPU on Colab and isn’t guaranteed\r\n",
        "gpu = GPUs[0]\r\n",
        "def printm():\r\n",
        " process = psutil.Process(os.getpid())\r\n",
        " print(\"Gen RAM Free: \" + humanize.naturalsize( psutil.virtual_memory().available ), \" | Proc size: \" + humanize.naturalsize( process.memory_info().rss))\r\n",
        " print(\"GPU RAM Free: {0:.0f}MB | Used: {1:.0f}MB | Util {2:3.0f}% | Total {3:.0f}MB\".format(gpu.memoryFree, gpu.memoryUsed, gpu.memoryUtil*100, gpu.memoryTotal))\r\n",
        "printm()\r\n"
      ],
      "execution_count": null,
      "outputs": []
    },
    {
      "cell_type": "code",
      "metadata": {
        "id": "590O7R-HSTAF"
      },
      "source": [
        "!git clone 'https://github.com/tensorflow/models.git'"
      ],
      "execution_count": null,
      "outputs": []
    },
    {
      "cell_type": "code",
      "metadata": {
        "id": "tYVUGBYlZWN3"
      },
      "source": [
        "from google.colab import drive\r\n",
        "drive.mount('/content/models')\r\n"
      ],
      "execution_count": null,
      "outputs": []
    },
    {
      "cell_type": "code",
      "metadata": {
        "id": "dhh61d99ZwMa"
      },
      "source": [
        "%cd '/content/models/MyDrive/models'\r\n"
      ],
      "execution_count": null,
      "outputs": []
    },
    {
      "cell_type": "code",
      "metadata": {
        "id": "9rkCeCXmZ9kA"
      },
      "source": [
        "!apt-get install protobuf-compiler python-pil python-lxml python-tk\r\n",
        "!pip install Cython\r\n",
        "%cd /content/models/MyDrive/models/research/\r\n",
        "!protoc object_detection/protos/*.proto --python_out=.\r\n",
        "\r\n",
        "import os\r\n",
        "os.environ['PYTHONPATH'] += ':/content/models/MyDrive/models/research/:/content/models/MyDrive/models/research/slim'\r\n",
        "\r\n",
        "!python setup.py build\r\n",
        "!python setup.py install\r\n"
      ],
      "execution_count": null,
      "outputs": []
    },
    {
      "cell_type": "code",
      "metadata": {
        "id": "S_xkyTEBbgKz"
      },
      "source": [
        "import time, psutil\r\n",
        "Start = time.time()- psutil.boot_time()\r\n",
        "Left= 12*3600 - Start\r\n",
        "print('Time remaining for this session is: ', Left/3600)\r\n"
      ],
      "execution_count": null,
      "outputs": []
    },
    {
      "cell_type": "code",
      "metadata": {
        "id": "PwdhS9YgiO-S"
      },
      "source": [
        "!ls \"/content/models/MyDrive/models/research/object_detection\"\r\n"
      ],
      "execution_count": null,
      "outputs": []
    },
    {
      "cell_type": "code",
      "metadata": {
        "id": "OZRU03vFbh92"
      },
      "source": [
        "!pip install tf_slim\r\n",
        "%cd /content/models/MyDrive/models/research/object_detection\r\n",
        "os.environ['PYTHONPATH'] += ':/content/models/MyDrive/models/research/:/content/models/MyDrive/models/research/slim'\r\n",
        "\r\n",
        "!python train.py --train_dir=/content/models/MyDrive/models/research/object_detection/training_data/ --pipeline_config_path=/content/models/MyDrive/models/research/object_detection/training_data/pipeline.config --logtostderr\r\n"
      ],
      "execution_count": null,
      "outputs": []
    },
    {
      "cell_type": "code",
      "metadata": {
        "id": "_YZQkVmYF1uU"
      },
      "source": [
        "#  .ckpt needs to be updated every time to match last .ckpt generated\r\n",
        "#  .config needs to be updated when changing model\r\n",
        "!python export_inference_graph.py --input_type image_tensor --pipeline_config_path /content/models/MyDrive/models/research/object_detection/training_data/pipeline.config --trained_checkpoint_prefix /content/models/MyDrive/models/research/object_detection/training_data/model.ckpt-26058 --output_directory new_graph\r\n"
      ],
      "execution_count": null,
      "outputs": []
    },
    {
      "cell_type": "code",
      "metadata": {
        "id": "9Ix9X-cBG1U9"
      },
      "source": [
        "!zip -r model_graph.zip new_graph"
      ],
      "execution_count": null,
      "outputs": []
    },
    {
      "cell_type": "code",
      "metadata": {
        "id": "SjXd7I40NdaS"
      },
      "source": [
        "import tensorflow as tf\r\n",
        "gf = tf.GraphDef()   \r\n",
        "m_file = open('/content/models/MyDrive/models/research/object_detection/new_graph_ssd/tflite_graph.pb','rb')\r\n",
        "gf.ParseFromString(m_file.read())\r\n",
        "for n in gf.node:\r\n",
        "    print( n.name )"
      ],
      "execution_count": null,
      "outputs": []
    },
    {
      "cell_type": "code",
      "metadata": {
        "id": "gRqwxhxsRLpe"
      },
      "source": [
        "!python export_tflite_ssd_graph.py --pipeline_config_path /content/models/MyDrive/models/research/object_detection/training_data/pipeline.config --trained_checkpoint_prefix /content/models/MyDrive/models/research/object_detection/training_data/model.ckpt-26058 --output_directory new_graph_ssd"
      ],
      "execution_count": null,
      "outputs": []
    },
    {
      "cell_type": "code",
      "metadata": {
        "id": "PjTnTVMGRwv0"
      },
      "source": [
        "!zip -r model_graph_ssd.zip new_graph_ssd"
      ],
      "execution_count": null,
      "outputs": []
    }
  ]
}